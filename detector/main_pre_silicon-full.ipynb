{
 "cells": [
  {
   "cell_type": "markdown",
   "id": "51d141c0",
   "metadata": {},
   "source": [
    "# Main Dashboard of PhD experiments in pre silicon full"
   ]
  },
  {
   "cell_type": "code",
   "execution_count": 5,
   "id": "30a28e6c",
   "metadata": {
    "scrolled": false
   },
   "outputs": [],
   "source": [
    "results_file = 'presilicon_results.csv'\n",
    "import os\n",
    "from pca.analytics import *\n",
    "from pre_silicon.presi_data_gen import *\n",
    "from clustering.distortion import *\n",
    "from clustering.clustering import *\n",
    "from clustering.cluster_score import *"
   ]
  },
  {
   "cell_type": "markdown",
   "id": "9957e7e6",
   "metadata": {},
   "source": [
    "# Characterization of worklaods based on instructions kind"
   ]
  },
  {
   "cell_type": "code",
   "execution_count": 7,
   "id": "8979f1be",
   "metadata": {
    "slideshow": {
     "slide_type": "-"
    }
   },
   "outputs": [
    {
     "data": {
      "text/html": [
       "<div>\n",
       "<style scoped>\n",
       "    .dataframe tbody tr th:only-of-type {\n",
       "        vertical-align: middle;\n",
       "    }\n",
       "\n",
       "    .dataframe tbody tr th {\n",
       "        vertical-align: top;\n",
       "    }\n",
       "\n",
       "    .dataframe thead th {\n",
       "        text-align: right;\n",
       "    }\n",
       "</style>\n",
       "<table border=\"1\" class=\"dataframe\">\n",
       "  <thead>\n",
       "    <tr style=\"text-align: right;\">\n",
       "      <th></th>\n",
       "      <th>InstrKind</th>\n",
       "      <th>probability</th>\n",
       "    </tr>\n",
       "  </thead>\n",
       "  <tbody>\n",
       "    <tr>\n",
       "      <th>0</th>\n",
       "      <td>arithmetic</td>\n",
       "      <td>0.115361</td>\n",
       "    </tr>\n",
       "    <tr>\n",
       "      <th>1</th>\n",
       "      <td>branch</td>\n",
       "      <td>0.300828</td>\n",
       "    </tr>\n",
       "    <tr>\n",
       "      <th>2</th>\n",
       "      <td>store_counter</td>\n",
       "      <td>0.386302</td>\n",
       "    </tr>\n",
       "    <tr>\n",
       "      <th>3</th>\n",
       "      <td>load_counter</td>\n",
       "      <td>0.029231</td>\n",
       "    </tr>\n",
       "    <tr>\n",
       "      <th>4</th>\n",
       "      <td>vector_counter</td>\n",
       "      <td>0.002293</td>\n",
       "    </tr>\n",
       "    <tr>\n",
       "      <th>5</th>\n",
       "      <td>io_counter</td>\n",
       "      <td>0.000114</td>\n",
       "    </tr>\n",
       "    <tr>\n",
       "      <th>6</th>\n",
       "      <td>other_counter</td>\n",
       "      <td>0.165872</td>\n",
       "    </tr>\n",
       "  </tbody>\n",
       "</table>\n",
       "</div>"
      ],
      "text/plain": [
       "        InstrKind  probability\n",
       "0      arithmetic     0.115361\n",
       "1          branch     0.300828\n",
       "2   store_counter     0.386302\n",
       "3    load_counter     0.029231\n",
       "4  vector_counter     0.002293\n",
       "5      io_counter     0.000114\n",
       "6   other_counter     0.165872"
      ]
     },
     "metadata": {},
     "output_type": "display_data"
    },
    {
     "ename": "ValueError",
     "evalue": "cannot set a row with mismatched columns",
     "output_type": "error",
     "traceback": [
      "\u001b[0;31m---------------------------------------------------------------------------\u001b[0m",
      "\u001b[0;31mValueError\u001b[0m                                Traceback (most recent call last)",
      "Cell \u001b[0;32mIn [7], line 9\u001b[0m\n\u001b[1;32m      7\u001b[0m     df_sumary, df_count \u001b[38;5;241m=\u001b[39m calculate_values(df)\n\u001b[1;32m      8\u001b[0m     display(df_sumary)\n\u001b[0;32m----> 9\u001b[0m     \u001b[43mdf_global\u001b[49m\u001b[38;5;241;43m.\u001b[39;49m\u001b[43mloc\u001b[49m\u001b[43m[\u001b[49m\u001b[43mtest_name\u001b[49m\u001b[43m]\u001b[49m \u001b[38;5;241m=\u001b[39m df_sumary[\u001b[38;5;124m'\u001b[39m\u001b[38;5;124mprobability\u001b[39m\u001b[38;5;124m'\u001b[39m]\u001b[38;5;241m.\u001b[39mvalues\u001b[38;5;241m.\u001b[39mtolist()\n\u001b[1;32m     11\u001b[0m plot_stacked_bar(df_global)\n\u001b[1;32m     13\u001b[0m df_global\u001b[38;5;241m.\u001b[39mreset_index(inplace\u001b[38;5;241m=\u001b[39m\u001b[38;5;28;01mTrue\u001b[39;00m)\n",
      "File \u001b[0;32m/usr/local/lib/python3.10/site-packages/pandas/core/indexing.py:819\u001b[0m, in \u001b[0;36m_LocationIndexer.__setitem__\u001b[0;34m(self, key, value)\u001b[0m\n\u001b[1;32m    816\u001b[0m \u001b[38;5;28mself\u001b[39m\u001b[38;5;241m.\u001b[39m_has_valid_setitem_indexer(key)\n\u001b[1;32m    818\u001b[0m iloc \u001b[38;5;241m=\u001b[39m \u001b[38;5;28mself\u001b[39m \u001b[38;5;28;01mif\u001b[39;00m \u001b[38;5;28mself\u001b[39m\u001b[38;5;241m.\u001b[39mname \u001b[38;5;241m==\u001b[39m \u001b[38;5;124m\"\u001b[39m\u001b[38;5;124miloc\u001b[39m\u001b[38;5;124m\"\u001b[39m \u001b[38;5;28;01melse\u001b[39;00m \u001b[38;5;28mself\u001b[39m\u001b[38;5;241m.\u001b[39mobj\u001b[38;5;241m.\u001b[39miloc\n\u001b[0;32m--> 819\u001b[0m \u001b[43miloc\u001b[49m\u001b[38;5;241;43m.\u001b[39;49m\u001b[43m_setitem_with_indexer\u001b[49m\u001b[43m(\u001b[49m\u001b[43mindexer\u001b[49m\u001b[43m,\u001b[49m\u001b[43m \u001b[49m\u001b[43mvalue\u001b[49m\u001b[43m,\u001b[49m\u001b[43m \u001b[49m\u001b[38;5;28;43mself\u001b[39;49m\u001b[38;5;241;43m.\u001b[39;49m\u001b[43mname\u001b[49m\u001b[43m)\u001b[49m\n",
      "File \u001b[0;32m/usr/local/lib/python3.10/site-packages/pandas/core/indexing.py:1786\u001b[0m, in \u001b[0;36m_iLocIndexer._setitem_with_indexer\u001b[0;34m(self, indexer, value, name)\u001b[0m\n\u001b[1;32m   1783\u001b[0m     indexer, missing \u001b[38;5;241m=\u001b[39m convert_missing_indexer(indexer)\n\u001b[1;32m   1785\u001b[0m     \u001b[38;5;28;01mif\u001b[39;00m missing:\n\u001b[0;32m-> 1786\u001b[0m         \u001b[38;5;28;43mself\u001b[39;49m\u001b[38;5;241;43m.\u001b[39;49m\u001b[43m_setitem_with_indexer_missing\u001b[49m\u001b[43m(\u001b[49m\u001b[43mindexer\u001b[49m\u001b[43m,\u001b[49m\u001b[43m \u001b[49m\u001b[43mvalue\u001b[49m\u001b[43m)\u001b[49m\n\u001b[1;32m   1787\u001b[0m         \u001b[38;5;28;01mreturn\u001b[39;00m\n\u001b[1;32m   1789\u001b[0m \u001b[38;5;28;01mif\u001b[39;00m name \u001b[38;5;241m==\u001b[39m \u001b[38;5;124m\"\u001b[39m\u001b[38;5;124mloc\u001b[39m\u001b[38;5;124m\"\u001b[39m:\n\u001b[1;32m   1790\u001b[0m     \u001b[38;5;66;03m# must come after setting of missing\u001b[39;00m\n",
      "File \u001b[0;32m/usr/local/lib/python3.10/site-packages/pandas/core/indexing.py:2156\u001b[0m, in \u001b[0;36m_iLocIndexer._setitem_with_indexer_missing\u001b[0;34m(self, indexer, value)\u001b[0m\n\u001b[1;32m   2153\u001b[0m     \u001b[38;5;28;01mif\u001b[39;00m is_list_like_indexer(value):\n\u001b[1;32m   2154\u001b[0m         \u001b[38;5;66;03m# must have conforming columns\u001b[39;00m\n\u001b[1;32m   2155\u001b[0m         \u001b[38;5;28;01mif\u001b[39;00m \u001b[38;5;28mlen\u001b[39m(value) \u001b[38;5;241m!=\u001b[39m \u001b[38;5;28mlen\u001b[39m(\u001b[38;5;28mself\u001b[39m\u001b[38;5;241m.\u001b[39mobj\u001b[38;5;241m.\u001b[39mcolumns):\n\u001b[0;32m-> 2156\u001b[0m             \u001b[38;5;28;01mraise\u001b[39;00m \u001b[38;5;167;01mValueError\u001b[39;00m(\u001b[38;5;124m\"\u001b[39m\u001b[38;5;124mcannot set a row with mismatched columns\u001b[39m\u001b[38;5;124m\"\u001b[39m)\n\u001b[1;32m   2158\u001b[0m     value \u001b[38;5;241m=\u001b[39m Series(value, index\u001b[38;5;241m=\u001b[39m\u001b[38;5;28mself\u001b[39m\u001b[38;5;241m.\u001b[39mobj\u001b[38;5;241m.\u001b[39mcolumns, name\u001b[38;5;241m=\u001b[39mindexer)\n\u001b[1;32m   2160\u001b[0m \u001b[38;5;28;01mif\u001b[39;00m \u001b[38;5;129;01mnot\u001b[39;00m \u001b[38;5;28mlen\u001b[39m(\u001b[38;5;28mself\u001b[39m\u001b[38;5;241m.\u001b[39mobj):\n\u001b[1;32m   2161\u001b[0m     \u001b[38;5;66;03m# We will ignore the existing dtypes instead of using\u001b[39;00m\n\u001b[1;32m   2162\u001b[0m     \u001b[38;5;66;03m#  internals.concat logic\u001b[39;00m\n",
      "\u001b[0;31mValueError\u001b[0m: cannot set a row with mismatched columns"
     ]
    }
   ],
   "source": [
    "files = dir_list = os.listdir(\"tests/pre_silicon_runs_ml_db\")\n",
    "my_labels = ['arithmetic', 'branch', 'store', 'other']\n",
    "df_global = pd.DataFrame(columns=my_labels)\n",
    "for file_name in files:\n",
    "    test_name = file_name\n",
    "    df = read_histogram(os.path.join(\"tests/pre_silicon_runs_ml_db\",file_name))\n",
    "    df_sumary, df_count = calculate_values(df)\n",
    "    display(df_sumary)\n",
    "    df_global.loc[test_name] = df_sumary['probability'].values.tolist()\n",
    "\n",
    "plot_stacked_bar(df_global)\n",
    "\n",
    "df_global.reset_index(inplace=True)\n",
    "df_global = df_global.rename(columns={\"index\": \"test_name\"} )\n",
    "\n",
    "print(df_global)\n",
    "\n",
    "\n",
    "df_global.to_csv(results_file)"
   ]
  },
  {
   "cell_type": "code",
   "execution_count": null,
   "id": "bb477f3f",
   "metadata": {
    "scrolled": false,
    "slideshow": {
     "slide_type": "notes"
    }
   },
   "outputs": [],
   "source": [
    "\n",
    "df = df_global\n",
    "\n",
    "df_ = df.loc[:, df.columns != 'test_name']\n",
    "df_ = (df_-df_.min())/(df_.max()-df_.min())\n",
    "extracted_col = df[\"test_name\"]\n",
    "df_.insert(0, 'test_name', extracted_col)\n",
    "df_.set_index('test_name')\n",
    "df_.to_csv('normalized_df.csv')\n",
    "df = df_\n",
    "\n",
    "features = list(df.columns)[1:]\n",
    "test_column = list(df.columns)[0]\n",
    "\n",
    "pca_df = get_PCA(df, features, test_column)\n"
   ]
  },
  {
   "cell_type": "markdown",
   "id": "05e7f736",
   "metadata": {},
   "source": [
    "# Plot characteristics of the worklaods"
   ]
  },
  {
   "cell_type": "code",
   "execution_count": null,
   "id": "7e0d224c",
   "metadata": {
    "scrolled": false
   },
   "outputs": [],
   "source": [
    "from clustering.distortion import *\n",
    "from clustering.cluster_score import *\n",
    "from pca.pca import *\n",
    "\n",
    "pca_df = get_PCA(df_global,features)\n",
    "clusters = calculate_elbow(pca_df)[0]\n",
    "display(f\"Optimal number of clusters = {clusters}\")"
   ]
  },
  {
   "cell_type": "markdown",
   "id": "f38f25c3",
   "metadata": {},
   "source": [
    "## Clasification based on optimal number of clusters"
   ]
  },
  {
   "cell_type": "code",
   "execution_count": null,
   "id": "390c7ac5",
   "metadata": {
    "scrolled": false
   },
   "outputs": [],
   "source": [
    "from clustering.clustering import *\n",
    "df_result,kmeans = kmean_cluster(pca_df,2)\n",
    "\n",
    "# create a DF based on KMEANS prediuction\n",
    "df_clusters = df_result[['PRED', 'test_name']].copy()\n",
    "df_clusters.sort_values(by=['test_name'], ascending=True, inplace= True)\n",
    "pca_df_sorted = pca_df.sort_values(by=['test_name'], ascending=True)\n",
    "df_clusters[\"principal component 1\"] = pca_df_sorted[\"principal component 1\"].values\n",
    "df_clusters[\"principal component 2\"] = pca_df_sorted[\"principal component 2\"].values\n",
    "df_clusters.rename(columns={'PRED': 'cluster'}, inplace=True)\n",
    "display(df_clusters)\n",
    "plot_kmeans(pca_df, kmeans)"
   ]
  },
  {
   "cell_type": "markdown",
   "id": "c6769548",
   "metadata": {},
   "source": [
    "# Get the test cases closer to centroid"
   ]
  },
  {
   "cell_type": "code",
   "execution_count": null,
   "id": "a78d7a59",
   "metadata": {
    "scrolled": false
   },
   "outputs": [],
   "source": [
    "from sklearn.metrics import pairwise_distances_argmin_min\n",
    "X = pd.read_csv(\"pca.csv\", usecols = ['principal component 1','principal component 2'])\n",
    "closest, _ = pairwise_distances_argmin_min(kmeans.cluster_centers_, X)\n",
    "pca_df = pd.read_csv(\"pca.csv\")\n",
    "df = pca_df.iloc[closest]\n",
    "df"
   ]
  },
  {
   "cell_type": "code",
   "execution_count": null,
   "id": "cea27c41",
   "metadata": {
    "scrolled": false
   },
   "outputs": [],
   "source": [
    "\n",
    "list_tests = df['test_name'].tolist()\n",
    "df2 = df_global[df_global['test_name'].isin(list_tests)]\n",
    "df2.plot.barh(x=\"test_name\")\n",
    "df2\n"
   ]
  },
  {
   "cell_type": "code",
   "execution_count": null,
   "id": "31bec8c9",
   "metadata": {},
   "outputs": [],
   "source": [
    "x = 0\n",
    "for test in df_global['test_name']:\n",
    "    if \"redis\" in test:\n",
    "        df_global.loc[df_global.index[x], 'Kind'] = int(1)\n",
    "    else:\n",
    "        df_global.loc[df_global.index[x], 'Kind'] = int(0)\n",
    "    x+=1\n",
    "display(df_global)\n",
    "df_data = df_global"
   ]
  },
  {
   "cell_type": "code",
   "execution_count": null,
   "id": "3b41d9b1",
   "metadata": {
    "scrolled": false
   },
   "outputs": [],
   "source": [
    "df_sorted = df_data.sort_values(by='Kind')\n",
    "fp_tests = df_sorted[df_sorted['Kind'] == 0]\n",
    "int_tests = df_sorted[df_sorted['Kind'] == 1]\n",
    "\n",
    "df = df_result\n",
    "df_sorted = df.sort_values(by='PRED')\n",
    "A = df_sorted[df_sorted['PRED'] == 0]\n",
    "B = df_sorted[df_sorted['PRED'] == 1]\n",
    "\n",
    "C = normalize(A,B,fp_tests,int_tests)\n",
    "C_sorted =  C.sort_values(by='test_name', ascending=False)\n",
    "\n",
    "REAL_sorted = df_data.sort_values(by='test_name', ascending=False)\n",
    "\n",
    "labels_pred = C_sorted[\"PRED\"].tolist()\n",
    "labels_pred_ = [eval(i) for i in labels_pred]\n",
    "labels_pred = labels_pred_\n",
    "\n",
    "labels_true = REAL_sorted[\"Kind\"].tolist()\n",
    "\n",
    "df = pd.DataFrame({'labels':C_sorted['test_name'], 'val_pred':labels_pred, 'val_true':labels_true})\n",
    "\n",
    "print(df)\n",
    "print(df.loc[~(df['val_pred'] == df['val_true'])])\n",
    "\n",
    "ax = df.plot.barh(x='labels', y=['val_pred','val_true'],  rot=0, title= \"Cluster 0: FP / 1: INT\")\n",
    "\n",
    "\n",
    "scores_result = scores(labels_true,labels_pred)\n",
    "\n",
    "df = pd.DataFrame({'scores':['adjusted_rand_score', 'normalized_mutual_info_score', 'fowlkes_mallows_score'], 'val':scores_result[:-1]})\n",
    "ax = df.plot.barh(x='scores', y='val', rot=0, title= \"Scores (HIB)\")"
   ]
  },
  {
   "cell_type": "markdown",
   "id": "e373abcc",
   "metadata": {},
   "source": [
    "## Clasification based on DB/AI clusters\n"
   ]
  },
  {
   "cell_type": "code",
   "execution_count": null,
   "id": "a3cf1bd2",
   "metadata": {},
   "outputs": [],
   "source": [
    "# create a DF based on real known kind\n",
    "df_clusters_ = df_data[['Kind', 'test_name']].copy()\n",
    "df_clusters_.sort_values(by=['test_name'], ascending=True, inplace= True)\n",
    "pca_df_sorted_ = pca_df.sort_values(by=['test_name'], ascending=True)\n",
    "df_clusters_[\"principal component 1\"] = pca_df_sorted_[\"principal component 1\"].values\n",
    "df_clusters_[\"principal component 2\"] = pca_df_sorted_[\"principal component 2\"].values\n",
    "df_clusters_.rename(columns={'Kind': 'cluster'}, inplace=True)\n",
    "display(df_clusters_)"
   ]
  },
  {
   "cell_type": "markdown",
   "id": "bf430ef6",
   "metadata": {
    "scrolled": true
   },
   "source": [
    "## Use supervised ML to validate with testing and training data"
   ]
  },
  {
   "cell_type": "code",
   "execution_count": null,
   "id": "573b30d3",
   "metadata": {
    "scrolled": true
   },
   "outputs": [],
   "source": [
    "# Use known kind based on SPEC documentation\n",
    "X = df_clusters_[[\"principal component 1\",\"principal component 2\"]]\n",
    "y = df_clusters_[[\"cluster\"]]\n",
    "\n",
    "# Use known kind based on KMEANS prediction\n",
    "#X = df_clusters[[\"principal component 1\",\"principal component 2\"]]\n",
    "#y = df_clusters[[\"cluster\"]]\n",
    "\n",
    "accuracy_results = {}"
   ]
  },
  {
   "cell_type": "markdown",
   "id": "8ea44ad9",
   "metadata": {},
   "source": [
    "### K-Nearest Neighbors Algorithm better accuracy\n"
   ]
  },
  {
   "cell_type": "code",
   "execution_count": null,
   "id": "7e1cd041",
   "metadata": {},
   "outputs": [],
   "source": [
    "\n",
    "# Use known kind based on KMEANS prediction\n",
    "X = df_clusters[[\"principal component 1\",\"principal component 2\"]]\n",
    "y = df_clusters[[\"cluster\"]]\n",
    "\n",
    "accuracy_results = {}"
   ]
  },
  {
   "cell_type": "code",
   "execution_count": null,
   "id": "9facbe73",
   "metadata": {},
   "outputs": [],
   "source": [
    "# Split into training and test set\n",
    "# import warnings filter\n",
    "from warnings import simplefilter\n",
    "# ignore all future warnings\n",
    "simplefilter(action='ignore', category=FutureWarning)\n",
    "\n",
    "from sklearn.model_selection import train_test_split\n",
    "from sklearn.neighbors import KNeighborsClassifier\n",
    "\n",
    "knn_score = 0\n",
    "\n",
    "for i in range(10):\n",
    "    X_train, X_test, y_train, y_test = train_test_split(X, y, test_size = 0.2)\n",
    "    knn = KNeighborsClassifier(n_neighbors=7)\n",
    "    knn.fit(X_train,y_train.values.ravel())\n",
    "    print(knn.score(X_test, y_test))\n",
    "    knn_score += knn.score(X_test, y_test)\n",
    "    \n",
    "\n",
    "print(f'knn.score average  = {knn_score/10}')\n",
    "accuracy_results['knn_score'] = knn_score/10"
   ]
  },
  {
   "cell_type": "code",
   "execution_count": null,
   "id": "90e06d3d",
   "metadata": {},
   "outputs": [],
   "source": [
    "### Decision Tree Algorithm\n"
   ]
  },
  {
   "cell_type": "code",
   "execution_count": null,
   "id": "2b71d8a2",
   "metadata": {},
   "outputs": [],
   "source": [
    "def get_accuracty(X,y,loops,clf):\n",
    "    p_total = 0\n",
    "    r_total = 0\n",
    "    f_total = 0\n",
    "\n",
    "    for i in range(loops):\n",
    "\n",
    "        X_train, X_test, y_train, y_test = train_test_split(X, y, test_size = 0.2)\n",
    "        clf.fit(X_train,y_train)\n",
    "\n",
    "        # Predict Accuracy Score\n",
    "        y_pred = clf.predict(X_test)\n",
    "        p,r,f,s = precision_recall_fscore_support(y_test, y_pred, average='weighted', labels=y_pred,zero_division=1)\n",
    "\n",
    "        p_total += p\n",
    "        r_total += r\n",
    "        f_total += f\n",
    "    return p_total,r_total,f_total\n",
    "\n",
    "from sklearn.tree import DecisionTreeClassifier\n",
    "from sklearn.metrics import precision_recall_fscore_support\n",
    "\n",
    "# Split into training and test set\n",
    "# import warnings filter\n",
    "from warnings import simplefilter\n",
    "# ignore all future warnings\n",
    "simplefilter(action='ignore', category=FutureWarning)\n",
    "\n",
    "from sklearn.model_selection import train_test_split\n",
    "from sklearn.neighbors import KNeighborsClassifier\n",
    "\n",
    "loops = 10\n",
    "clf = DecisionTreeClassifier()\n",
    "p_total,r_total,f_total = get_accuracty(X,y,loops,clf)\n",
    "    \n",
    "print(f\"Precision score {p_total/10}\")\n",
    "print(f\"Recall score {r_total/10}\")\n",
    "print(f\"F-beta score {f_total/10}\")\n",
    "\n",
    "accuracy_results['dt_precision_score'] = p_total/10\n",
    "accuracy_results['dt_recall_score'] = r_total/10\n",
    "accuracy_results['dt_fbeta_score'] = f_total/10"
   ]
  },
  {
   "cell_type": "code",
   "execution_count": null,
   "id": "db00a8ff",
   "metadata": {},
   "outputs": [],
   "source": [
    "accuracy_results_df = pd.DataFrame(list(accuracy_results.items()),columns=['algorithm','accuracy'])\n",
    "display(accuracy_results_df)\n",
    "accuracy_results_df.plot.barh(x='algorithm', title = 'Accuracy of suppervised ML algorithms with Pre Silicon data');"
   ]
  },
  {
   "cell_type": "code",
   "execution_count": null,
   "id": "66348805",
   "metadata": {},
   "outputs": [],
   "source": []
  },
  {
   "cell_type": "code",
   "execution_count": null,
   "id": "f0245353",
   "metadata": {},
   "outputs": [],
   "source": []
  }
 ],
 "metadata": {
  "celltoolbar": "Slideshow",
  "kernelspec": {
   "display_name": "Python 3 (ipykernel)",
   "language": "python",
   "name": "python3"
  },
  "language_info": {
   "codemirror_mode": {
    "name": "ipython",
    "version": 3
   },
   "file_extension": ".py",
   "mimetype": "text/x-python",
   "name": "python",
   "nbconvert_exporter": "python",
   "pygments_lexer": "ipython3",
   "version": "3.10.9"
  }
 },
 "nbformat": 4,
 "nbformat_minor": 5
}
