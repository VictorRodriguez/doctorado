{
 "cells": [
  {
   "cell_type": "markdown",
   "id": "51d141c0",
   "metadata": {},
   "source": [
    "# Dashboard of  experiments in post silicon for WL affinity (SKX) SPEC 17"
   ]
  },
  {
   "cell_type": "code",
   "execution_count": 2,
   "id": "30a28e6c",
   "metadata": {
    "scrolled": true
   },
   "outputs": [],
   "source": [
    "%matplotlib inline\n",
    "\n",
    "import os\n",
    "from pca.pca import *\n",
    "from clustering.distortion import *\n",
    "from clustering.clustering import *\n",
    "from clustering.cluster_score import *"
   ]
  },
  {
   "cell_type": "code",
   "execution_count": 4,
   "id": "7f3e4bc0",
   "metadata": {
    "scrolled": false
   },
   "outputs": [
    {
     "data": {
      "image/png": "[encoded data removed]",
      "text/plain": [
       "<Figure size 640x480 with 1 Axes>"
      ]
     },
     "metadata": {},
     "output_type": "display_data"
    },
    {
     "data": {
      "text/html": [
       "<div>\n",
       "<style scoped>\n",
       "    .dataframe tbody tr th:only-of-type {\n",
       "        vertical-align: middle;\n",
       "    }\n",
       "\n",
       "    .dataframe tbody tr th {\n",
       "        vertical-align: top;\n",
       "    }\n",
       "\n",
       "    .dataframe thead th {\n",
       "        text-align: right;\n",
       "    }\n",
       "</style>\n",
       "<table border=\"1\" class=\"dataframe\">\n",
       "  <thead>\n",
       "    <tr style=\"text-align: right;\">\n",
       "      <th></th>\n",
       "      <th>principal component 1</th>\n",
       "      <th>principal component 2</th>\n",
       "      <th>test_name</th>\n",
       "    </tr>\n",
       "  </thead>\n",
       "  <tbody>\n",
       "    <tr>\n",
       "      <th>0</th>\n",
       "      <td>2.725556</td>\n",
       "      <td>-0.384197</td>\n",
       "      <td>654.roms</td>\n",
       "    </tr>\n",
       "    <tr>\n",
       "      <th>1</th>\n",
       "      <td>-1.853516</td>\n",
       "      <td>-0.327353</td>\n",
       "      <td>625.x264</td>\n",
       "    </tr>\n",
       "    <tr>\n",
       "      <th>2</th>\n",
       "      <td>0.827516</td>\n",
       "      <td>0.468315</td>\n",
       "      <td>628.pop2</td>\n",
       "    </tr>\n",
       "    <tr>\n",
       "      <th>3</th>\n",
       "      <td>1.352494</td>\n",
       "      <td>0.043497</td>\n",
       "      <td>649.fotonik3d</td>\n",
       "    </tr>\n",
       "    <tr>\n",
       "      <th>4</th>\n",
       "      <td>-1.737347</td>\n",
       "      <td>1.164917</td>\n",
       "      <td>620.omnetpp</td>\n",
       "    </tr>\n",
       "    <tr>\n",
       "      <th>5</th>\n",
       "      <td>4.216863</td>\n",
       "      <td>-1.382696</td>\n",
       "      <td>619.lbm</td>\n",
       "    </tr>\n",
       "    <tr>\n",
       "      <th>6</th>\n",
       "      <td>-2.745553</td>\n",
       "      <td>-0.397913</td>\n",
       "      <td>641.leela</td>\n",
       "    </tr>\n",
       "    <tr>\n",
       "      <th>7</th>\n",
       "      <td>-1.641430</td>\n",
       "      <td>-0.578703</td>\n",
       "      <td>648.exchange2</td>\n",
       "    </tr>\n",
       "    <tr>\n",
       "      <th>8</th>\n",
       "      <td>0.639802</td>\n",
       "      <td>-0.791599</td>\n",
       "      <td>627.cam4</td>\n",
       "    </tr>\n",
       "    <tr>\n",
       "      <th>9</th>\n",
       "      <td>-1.793819</td>\n",
       "      <td>-0.375358</td>\n",
       "      <td>657.xz</td>\n",
       "    </tr>\n",
       "    <tr>\n",
       "      <th>10</th>\n",
       "      <td>1.780826</td>\n",
       "      <td>-1.133210</td>\n",
       "      <td>607.cactuBSSN</td>\n",
       "    </tr>\n",
       "    <tr>\n",
       "      <th>11</th>\n",
       "      <td>-2.480396</td>\n",
       "      <td>0.986460</td>\n",
       "      <td>605.mcf</td>\n",
       "    </tr>\n",
       "    <tr>\n",
       "      <th>12</th>\n",
       "      <td>-1.902930</td>\n",
       "      <td>-0.476499</td>\n",
       "      <td>631.deepsjeng</td>\n",
       "    </tr>\n",
       "    <tr>\n",
       "      <th>13</th>\n",
       "      <td>-1.971998</td>\n",
       "      <td>0.381370</td>\n",
       "      <td>623.xalancbmk</td>\n",
       "    </tr>\n",
       "    <tr>\n",
       "      <th>14</th>\n",
       "      <td>0.091721</td>\n",
       "      <td>-0.924741</td>\n",
       "      <td>644.nab</td>\n",
       "    </tr>\n",
       "    <tr>\n",
       "      <th>15</th>\n",
       "      <td>0.074671</td>\n",
       "      <td>-1.085981</td>\n",
       "      <td>638.imagick</td>\n",
       "    </tr>\n",
       "    <tr>\n",
       "      <th>16</th>\n",
       "      <td>2.285566</td>\n",
       "      <td>-0.958997</td>\n",
       "      <td>603.bwaves</td>\n",
       "    </tr>\n",
       "    <tr>\n",
       "      <th>17</th>\n",
       "      <td>2.131975</td>\n",
       "      <td>5.772686</td>\n",
       "      <td>621.wrf</td>\n",
       "    </tr>\n",
       "  </tbody>\n",
       "</table>\n",
       "</div>"
      ],
      "text/plain": [
       "    principal component 1  principal component 2      test_name\n",
       "0                2.725556              -0.384197       654.roms\n",
       "1               -1.853516              -0.327353       625.x264\n",
       "2                0.827516               0.468315       628.pop2\n",
       "3                1.352494               0.043497  649.fotonik3d\n",
       "4               -1.737347               1.164917    620.omnetpp\n",
       "5                4.216863              -1.382696        619.lbm\n",
       "6               -2.745553              -0.397913      641.leela\n",
       "7               -1.641430              -0.578703  648.exchange2\n",
       "8                0.639802              -0.791599       627.cam4\n",
       "9               -1.793819              -0.375358         657.xz\n",
       "10               1.780826              -1.133210  607.cactuBSSN\n",
       "11              -2.480396               0.986460        605.mcf\n",
       "12              -1.902930              -0.476499  631.deepsjeng\n",
       "13              -1.971998               0.381370  623.xalancbmk\n",
       "14               0.091721              -0.924741        644.nab\n",
       "15               0.074671              -1.085981    638.imagick\n",
       "16               2.285566              -0.958997     603.bwaves\n",
       "17               2.131975               5.772686        621.wrf"
      ]
     },
     "metadata": {},
     "output_type": "display_data"
    },
    {
     "data": {
      "image/png": "[encoded data removed]",
      "text/plain": [
       "<Figure size 800x800 with 1 Axes>"
      ]
     },
     "metadata": {},
     "output_type": "display_data"
    }
   ],
   "source": [
    "filename = 'post_silicon/summary.csv'\n",
    "pca_df = None\n",
    "\n",
    "if os.path.exists(filename):\n",
    "    df = pd.read_csv(filename)\n",
    "    df.fillna(0,inplace=True)\n",
    "\n",
    "    features = list(df.columns)[1:]\n",
    "    test_column = list(df.columns)[0]\n",
    "    \n",
    "    #pca_df,eig_vals,eig_vecs = get_PCA(df, features, test_column)\n",
    "    pca_df = get_PCA(df,features)\n",
    "    x = get_features(df,features)\n",
    "    X_std = StandardScaler().fit_transform(x)\n",
    "    exp_var_pca = get_explained_variance(X_std)\n",
    "    plot_explained_variance(exp_var_pca)\n",
    "    plot_PCA(pca_df)\n",
    "    display(pca_df)\n",
    "\n",
    "else:\n",
    "    print(\"Filename error\")\n",
    "\n",
    "#display(eig_vals)\n",
    "#display(eig_vecs)"
   ]
  },
  {
   "cell_type": "markdown",
   "id": "ab59843f",
   "metadata": {},
   "source": [
    "# Plot characteristics of the worklaods"
   ]
  },
  {
   "cell_type": "code",
   "execution_count": 8,
   "id": "14df294d",
   "metadata": {
    "scrolled": false
   },
   "outputs": [],
   "source": [
    "if os.path.exists(\"pca.csv\"):    \n",
    "    clusters = calculate_elbow(pd.read_csv(\"pca.csv\"))\n"
   ]
  },
  {
   "cell_type": "code",
   "execution_count": 10,
   "id": "2470d029",
   "metadata": {
    "scrolled": true
   },
   "outputs": [
    {
     "name": "stdout",
     "output_type": "stream",
     "text": [
      "Optimal number of clusters = 3\n"
     ]
    }
   ],
   "source": [
    "print(f'Optimal number of clusters = {clusters[0]}')"
   ]
  },
  {
   "cell_type": "markdown",
   "id": "5e5880b8",
   "metadata": {},
   "source": [
    "## Clasification based on optimal number of clusters"
   ]
  },
  {
   "cell_type": "code",
   "execution_count": 6,
   "id": "a8c10fe8",
   "metadata": {
    "scrolled": false
   },
   "outputs": [
    {
     "name": "stdout",
     "output_type": "stream",
     "text": [
      "pca.csv\n"
     ]
    },
    {
     "ename": "TypeError",
     "evalue": "string indices must be integers",
     "output_type": "error",
     "traceback": [
      "\u001b[0;31m---------------------------------------------------------------------------\u001b[0m",
      "\u001b[0;31mTypeError\u001b[0m                                 Traceback (most recent call last)",
      "\u001b[0;32m/var/folders/cq/r380vqnd7fd_v5hhy522gw140000gn/T/ipykernel_93591/4006413752.py\u001b[0m in \u001b[0;36m<module>\u001b[0;34m\u001b[0m\n\u001b[0;32m----> 1\u001b[0;31m \u001b[0mdf_result\u001b[0m\u001b[0;34m,\u001b[0m\u001b[0mkmeans\u001b[0m \u001b[0;34m=\u001b[0m \u001b[0mkmean_cluster\u001b[0m\u001b[0;34m(\u001b[0m\u001b[0;34m\"pca.csv\"\u001b[0m\u001b[0;34m,\u001b[0m\u001b[0mclusters\u001b[0m\u001b[0;34m)\u001b[0m\u001b[0;34m\u001b[0m\u001b[0;34m\u001b[0m\u001b[0m\n\u001b[0m\u001b[1;32m      2\u001b[0m \u001b[0mdf_result\u001b[0m\u001b[0;34m\u001b[0m\u001b[0;34m\u001b[0m\u001b[0m\n",
      "\u001b[0;32m~/devel/doctorado/detector/clustering/clustering.py\u001b[0m in \u001b[0;36mkmean_cluster\u001b[0;34m(df, clusters)\u001b[0m\n\u001b[1;32m     22\u001b[0m     \"\"\"\n\u001b[1;32m     23\u001b[0m     \u001b[0mprint\u001b[0m\u001b[0;34m(\u001b[0m\u001b[0mdf\u001b[0m\u001b[0;34m)\u001b[0m\u001b[0;34m\u001b[0m\u001b[0;34m\u001b[0m\u001b[0m\n\u001b[0;32m---> 24\u001b[0;31m     \u001b[0mkmeans_df\u001b[0m \u001b[0;34m=\u001b[0m \u001b[0mdf\u001b[0m\u001b[0;34m[\u001b[0m\u001b[0;34m[\u001b[0m\u001b[0;34m'principal component 1'\u001b[0m\u001b[0;34m,\u001b[0m \u001b[0;34m'principal component 2'\u001b[0m\u001b[0;34m]\u001b[0m\u001b[0;34m]\u001b[0m\u001b[0;34m.\u001b[0m\u001b[0mcopy\u001b[0m\u001b[0;34m(\u001b[0m\u001b[0;34m)\u001b[0m\u001b[0;34m\u001b[0m\u001b[0;34m\u001b[0m\u001b[0m\n\u001b[0m\u001b[1;32m     25\u001b[0m     \u001b[0mprint\u001b[0m\u001b[0;34m(\u001b[0m\u001b[0mkmeans_df\u001b[0m\u001b[0;34m)\u001b[0m\u001b[0;34m\u001b[0m\u001b[0;34m\u001b[0m\u001b[0m\n\u001b[1;32m     26\u001b[0m \u001b[0;31m#    workload_name_df = pd.read_csv(FILE, usecols =[test_column])\u001b[0m\u001b[0;34m\u001b[0m\u001b[0;34m\u001b[0m\u001b[0m\n",
      "\u001b[0;31mTypeError\u001b[0m: string indices must be integers"
     ]
    }
   ],
   "source": [
    "df_result,kmeans = kmean_cluster(\"pca.csv\",clusters)\n",
    "df_result"
   ]
  },
  {
   "cell_type": "markdown",
   "id": "ec981b6f",
   "metadata": {},
   "source": [
    "# Get the test cases closer to centroid"
   ]
  },
  {
   "cell_type": "code",
   "execution_count": null,
   "id": "b89f0f41",
   "metadata": {
    "scrolled": true
   },
   "outputs": [],
   "source": [
    "from sklearn.metrics import pairwise_distances_argmin_min\n",
    "X = pd.read_csv(\"pca.csv\", usecols = ['principal component 1','principal component 2'])\n",
    "closest, _ = pairwise_distances_argmin_min(kmeans.cluster_centers_, X)\n",
    "pca_df = pd.read_csv(\"pca.csv\")\n",
    "df = pca_df.iloc[closest]\n",
    "df"
   ]
  },
  {
   "cell_type": "code",
   "execution_count": null,
   "id": "3a4db08c",
   "metadata": {
    "scrolled": false
   },
   "outputs": [],
   "source": [
    "list_tests = df['test_name'].tolist()\n",
    "df_global = pd.read_csv(filename)\n",
    "df2 = df_global[df_global['test_name'].isin(list_tests)]\n",
    "df2.plot.barh(x=\"test_name\")\n",
    "df2\n"
   ]
  },
  {
   "cell_type": "markdown",
   "id": "58620184",
   "metadata": {
    "scrolled": true
   },
   "source": [
    "## Clasification based on FP/INT clusters\n"
   ]
  },
  {
   "cell_type": "code",
   "execution_count": null,
   "id": "db99056c",
   "metadata": {
    "scrolled": false
   },
   "outputs": [],
   "source": [
    "df_result,kmeans = kmean_cluster(\"pca.csv\",2)\n",
    "df_result"
   ]
  },
  {
   "cell_type": "markdown",
   "id": "e8dd455b",
   "metadata": {},
   "source": [
    "## Automatic label of clusters based cosine similarity to FP/INT\n"
   ]
  },
  {
   "cell_type": "markdown",
   "id": "c31625f6",
   "metadata": {},
   "source": [
    "\\begin{equation}\n",
    "\\cos ({\\bf t},{\\bf e})= {{\\bf t} {\\bf e} \\over \\|{\\bf t}\\| \\|{\\bf e}\\|} = \\frac{ \\sum_{i=1}^{n}{{\\bf t}_i{\\bf e}_i} }{ \\sqrt{\\sum_{i=1}^{n}{({\\bf t}_i)^2}} \\sqrt{\\sum_{i=1}^{n}{({\\bf e}_i)^2}} }\n",
    "\\end{equation}"
   ]
  },
  {
   "cell_type": "code",
   "execution_count": null,
   "id": "b43622d5",
   "metadata": {
    "scrolled": false
   },
   "outputs": [],
   "source": [
    "df = pd.read_csv(\"references/clusters_spec2017_clean.csv\")\n",
    "print(df)\n",
    "df_sorted = df.sort_values(by='REAL')\n",
    "fp_tests = df_sorted[df_sorted['REAL'] == 0]\n",
    "int_tests = df_sorted[df_sorted['REAL'] == 1]\n",
    "\n",
    "df = pd.read_csv(\"clusters.csv\")\n",
    "print(df)\n",
    "df_sorted = df.sort_values(by='PRED')\n",
    "A = df_sorted[df_sorted['PRED'] == 0]\n",
    "B = df_sorted[df_sorted['PRED'] == 1]\n",
    "\n",
    "C = normalize(A,B,fp_tests,int_tests)\n",
    "C_sorted =  C.sort_values(by='test_name', ascending=False)\n",
    "\n",
    "REAL = pd.read_csv(\"references/clusters_spec2017_clean.csv\")\n",
    "REAL_sorted = REAL.sort_values(by='test_name', ascending=False)\n",
    "\n",
    "labels_pred = C_sorted[\"PRED\"].tolist()\n",
    "labels_pred_ = [eval(i) for i in labels_pred]\n",
    "labels_pred = labels_pred_\n",
    "\n",
    "labels_true = REAL_sorted[\"REAL\"].tolist()\n",
    "\n",
    "\n",
    "df = pd.DataFrame({'labels':C_sorted['test_name'], 'val_pred':labels_pred, 'val_true':labels_true})\n",
    "\n",
    "print()\n",
    "print(df)\n",
    "\n",
    "print()\n",
    "print(df.loc[~(df['val_pred'] == df['val_true'])])\n",
    "\n",
    "\n",
    "ax = df.plot.barh(x='labels', y=['val_pred','val_true'],  rot=0, title= \"Cluster 0: FP / 1: INT\")\n",
    "\n",
    "\n",
    "scores_result = scores(labels_true,labels_pred)\n",
    "\n",
    "df = pd.DataFrame({'scores':['adjusted_rand_score', 'normalized_mutual_info_score', 'fowlkes_mallows_score'], 'val':scores_result[:-1]})\n",
    "ax = df.plot.barh(x='scores', y='val', rot=0, title= \"Scores (HIB)\")"
   ]
  },
  {
   "cell_type": "code",
   "execution_count": null,
   "id": "4ce73be1",
   "metadata": {
    "scrolled": false
   },
   "outputs": [],
   "source": []
  },
  {
   "cell_type": "code",
   "execution_count": null,
   "id": "10432531",
   "metadata": {},
   "outputs": [],
   "source": []
  }
 ],
 "metadata": {
  "celltoolbar": "Slideshow",
  "kernelspec": {
   "display_name": "Python 3 (ipykernel)",
   "language": "python",
   "name": "python3"
  },
  "language_info": {
   "codemirror_mode": {
    "name": "ipython",
    "version": 3
   },
   "file_extension": ".py",
   "mimetype": "text/x-python",
   "name": "python",
   "nbconvert_exporter": "python",
   "pygments_lexer": "ipython3",
   "version": "3.9.13"
  }
 },
 "nbformat": 4,
 "nbformat_minor": 5
}
